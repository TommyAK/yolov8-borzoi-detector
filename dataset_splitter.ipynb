{
 "cells": [
  {
   "cell_type": "code",
   "execution_count": 1,
   "metadata": {},
   "outputs": [
    {
     "name": "stdout",
     "output_type": "stream",
     "text": [
      "Error: [WinError 145] The directory is not empty: './data/images'\n"
     ]
    }
   ],
   "source": [
    "import os\n",
    "import shutil\n",
    "from sklearn.model_selection import train_test_split\n",
    "\n",
    "# helper function for moving image data and associated bounding box \n",
    "def move_files(image_list, source_dir, dest_dir):\n",
    "    # iterate through each image in the supplied list\n",
    "    for image in image_list:\n",
    "        # creating path for each image and label respecively\n",
    "        image_path = os.path.join(source_dir, \"images\", image)\n",
    "        label_path = os.path.join(source_dir, \"labels\", image.replace(os.path.splitext(image)[-1], \".txt\"))\n",
    "\n",
    "        # move image and label to specified direcctory\n",
    "        shutil.move(image_path, os.path.join(dest_dir, \"images\"))\n",
    "        shutil.move(label_path, os.path.join(dest_dir, \"labels\"))\n",
    "\n",
    "# primary function to split data into train, test, and val for YOLO\n",
    "def split_data(data_path, img_formats):\n",
    "    # setting paths for data directories\n",
    "    train_path = os.path.join(data_path, \"train\")\n",
    "    test_path = os.path.join(data_path, \"test\")\n",
    "    val_path = os.path.join(data_path, \"val\")\n",
    "\n",
    "    # iterate over each directory and create it\n",
    "    for dir in [train_path, test_path, val_path]:\n",
    "        os.makedirs(os.path.join(dir, \"images\"), exist_ok=True)\n",
    "        os.makedirs(os.path.join(dir, \"labels\"), exist_ok=True)\n",
    "\n",
    "    # store images which match file extensions requested\n",
    "    images = [img for img in os.listdir(os.path.join(data_path, \"images\")) if img.endswith(img_formats)]\n",
    "\n",
    "    # sklearn split for train, test and val\n",
    "    train_imgs, test_val_imgs = train_test_split(images, test_size=0.3)\n",
    "    test_imgs, val_images = train_test_split(test_val_imgs, test_size=0.5)\n",
    "\n",
    "    # move training files to train directory\n",
    "    move_files(train_imgs, data_path, train_path)\n",
    "\n",
    "    # move testing files to test directory\n",
    "    move_files(test_imgs, data_path, test_path)\n",
    "\n",
    "    # move validation files to val directory\n",
    "    move_files(val_images, data_path, val_path)\n",
    "\n",
    "    # Remove old empty images and labels directories\n",
    "    old_images_dir = os.path.join(data_path, \"images\")\n",
    "    old_labels_dir = os.path.join(data_path, \"labels\")\n",
    "\n",
    "    # attempts to remove otherwise will throw an exception\n",
    "    try:\n",
    "        os.rmdir(old_images_dir)\n",
    "        os.rmdir(old_labels_dir)\n",
    "        print(f\"Old empty directories '{old_images_dir}' and '{old_labels_dir}' removed successfully.\")\n",
    "    except OSError as e:\n",
    "        print(f\"Error: {e}\")\n",
    "\n",
    "# set data path\n",
    "data_path = \"./data/\"\n",
    "# set image file extensions\n",
    "img_formats = \".jpg\", \".JPG\",\".jpeg\", \".png\", \".webp\"\n",
    "# call function and pass the data dir and img formats string\n",
    "split_data(data_path, img_formats)"
   ]
  }
 ],
 "metadata": {
  "kernelspec": {
   "display_name": "base",
   "language": "python",
   "name": "python3"
  },
  "language_info": {
   "codemirror_mode": {
    "name": "ipython",
    "version": 3
   },
   "file_extension": ".py",
   "mimetype": "text/x-python",
   "name": "python",
   "nbconvert_exporter": "python",
   "pygments_lexer": "ipython3",
   "version": "3.10.9"
  }
 },
 "nbformat": 4,
 "nbformat_minor": 2
}
