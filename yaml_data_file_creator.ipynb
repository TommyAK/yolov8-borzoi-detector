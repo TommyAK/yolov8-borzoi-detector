{
 "cells": [
  {
   "cell_type": "code",
   "execution_count": 1,
   "metadata": {},
   "outputs": [],
   "source": [
    "import json\n",
    "import os\n",
    "\n",
    "# Will create a data.yaml file for use with YOLO based off output of Label Studio dataset\n",
    "def create_data_yaml(data_dir):\n",
    "\n",
    "    # Notes file created by Label Studio contains data we need to construct data.yaml\n",
    "    notes_json_path = os.path.join(data_dir, \"notes.json\")\n",
    "\n",
    "    with open(notes_json_path, 'r') as json_file:\n",
    "        notes_data = json.load(json_file)\n",
    "        categories = notes_data.get(\"categories\", [])\n",
    "\n",
    "    # paths for train, val, and test\n",
    "    train_path = \"../train/images\"\n",
    "    val_path = \"../val/images\"\n",
    "    test_path = \"../test/images\"\n",
    "\n",
    "    # fetching category names\n",
    "    names = [category['name'] for category in categories]\n",
    "\n",
    "    # hacky way to ensure category names are in list format\n",
    "    names_yaml = \"names: [\" + ', '.join(map(lambda x: f\"'{x}'\", names)) + \"]\"\n",
    "\n",
    "    # data for yaml file\n",
    "    data_yaml = f\"train: {train_path}\\nval: {val_path}\\ntest: {test_path}\\nnc: {len(names)}\\n{names_yaml}\"\n",
    "\n",
    "    # saving yaml file\n",
    "    with open(os.path.join(data_dir, \"data.yaml\"), 'w') as yaml_file:\n",
    "        yaml_file.write(data_yaml)\n",
    "\n",
    "# set data path\n",
    "data_path = \"./data/\"\n",
    "\n",
    "# call function and pass data path\n",
    "create_data_yaml(data_path)\n"
   ]
  }
 ],
 "metadata": {
  "kernelspec": {
   "display_name": "base",
   "language": "python",
   "name": "python3"
  },
  "language_info": {
   "codemirror_mode": {
    "name": "ipython",
    "version": 3
   },
   "file_extension": ".py",
   "mimetype": "text/x-python",
   "name": "python",
   "nbconvert_exporter": "python",
   "pygments_lexer": "ipython3",
   "version": "3.10.9"
  }
 },
 "nbformat": 4,
 "nbformat_minor": 2
}
